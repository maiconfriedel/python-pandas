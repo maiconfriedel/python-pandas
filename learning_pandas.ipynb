{
  "nbformat": 4,
  "nbformat_minor": 0,
  "metadata": {
    "colab": {
      "name": "learning_pandas.ipynb",
      "provenance": [],
      "authorship_tag": "ABX9TyPGth4msXQqw7Q8JUbFe8P+",
      "include_colab_link": true
    },
    "kernelspec": {
      "name": "python3",
      "display_name": "Python 3"
    },
    "language_info": {
      "name": "python"
    }
  },
  "cells": [
    {
      "cell_type": "markdown",
      "metadata": {
        "id": "view-in-github",
        "colab_type": "text"
      },
      "source": [
        "<a href=\"https://colab.research.google.com/github/maiconfriedel/python-pandas/blob/main/learning_pandas.ipynb\" target=\"_parent\"><img src=\"https://colab.research.google.com/assets/colab-badge.svg\" alt=\"Open In Colab\"/></a>"
      ]
    },
    {
      "cell_type": "code",
      "metadata": {
        "id": "For4Fn-AUd2t"
      },
      "source": [
        "import pandas as pd\n",
        "\n",
        "#dataframe = pd.DataFrame()\n",
        "venda = {'data': ['15/02/2021','16/02/2021'],\n",
        "         'valor' : [500,300],\n",
        "         'produto' : ['feijao', 'arroz'],\n",
        "         'qtde' : [50,70]                       \n",
        "         }\n",
        "\n",
        "vendas_df = pd.DataFrame(venda)\n",
        "\n",
        "display(vendas_df)"
      ],
      "execution_count": null,
      "outputs": []
    },
    {
      "cell_type": "code",
      "metadata": {
        "id": "yHkHmgSgYOhn"
      },
      "source": [
        "import pandas as pd\n",
        "\n",
        "vendas_df = pd.read_csv(\"./sample_data/california_housing_test.csv\")\n",
        "\n",
        "display(vendas_df[0:5])  # primeiro até quinto registro\n",
        "#display(vendas_df.head(5)) # 5 primeiras linhas\n",
        "#print(vendas_df.shape) # qtde linhas e colunas\n",
        "#display(vendas_df.describe()) # soma, média etc... \n",
        "#display(vendas_df.loc[vendas_df['population'] >= 1000, ['total_rooms', 'total_bedrooms', 'population', 'households']]) # filtro e select colunas"
      ],
      "execution_count": null,
      "outputs": []
    },
    {
      "cell_type": "code",
      "metadata": {
        "id": "Yr7SJBWeW5W-"
      },
      "source": [
        "vendas_df['comission'] = vendas_df['population'] * 0.05 # criar uma nova coluna no DF\n",
        "\n",
        "#vendas_df.loc['Imposto'] = 0 muito custoso para valor fixo, não utilizar\n",
        "#vendas_df.loc[0, 'taxes'] = 5.75 # preencher todas linhas na coluna imposto com 0, menos custosa dessa forma\n",
        "\n",
        "#vendas_df = vendas_df.append(vendas_dez_def) # adicionar linhas ao DF\n",
        "\n",
        "#display(vendas_df)"
      ],
      "execution_count": 64,
      "outputs": []
    },
    {
      "cell_type": "code",
      "metadata": {
        "id": "hSHWsghEZBmC"
      },
      "source": [
        "# vendas_df = vendas_df.drop('Comissão', axis=1) # remover coluna\n",
        "# vendas_df = vendas_df.drop(0, axis=0) # remover linha"
      ],
      "execution_count": null,
      "outputs": []
    },
    {
      "cell_type": "code",
      "metadata": {
        "id": "iuiCdtptZHVt"
      },
      "source": [
        "# deletar linhas e colunas completamente vazias\n",
        "#vendas_df = vendas_df.dropna(how='all', axis=1)\n",
        "#display(vendas_df)\n",
        "\n",
        "# deletar linhas que possuem pelo menos um valor vazio\n",
        "#vendas_df = vendas_df.dropna()\n",
        "#display(vendas_df)\n",
        "\n",
        "# preencher valores vazios\n",
        "# vendas_df['taxes'] = vendas_df['taxes'].fillna(5.75)\n",
        "# display(vendas_df)\n",
        "\n",
        "# preencher com valor anterior em todas colunas\n",
        "# vendas_df = vendas_df.ffill()\n",
        "# display(vendas_df)\n"
      ],
      "execution_count": null,
      "outputs": []
    },
    {
      "cell_type": "code",
      "metadata": {
        "id": "VoMnUiTXbJb3"
      },
      "source": [
        " value_counts = vendas_df['housing_median_age'].value_counts()\n",
        " display(value_counts)\n",
        "\n",
        "#groupby = vendas_df[['housing_median_age','total_rooms','total_bedrooms','comission']].groupby('housing_median_age').mean()\n",
        "#print(groupby)"
      ],
      "execution_count": null,
      "outputs": []
    }
  ]
}