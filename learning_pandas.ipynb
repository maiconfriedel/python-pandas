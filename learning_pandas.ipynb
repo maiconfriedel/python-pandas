{
  "nbformat": 4,
  "nbformat_minor": 0,
  "metadata": {
    "colab": {
      "name": "learning_pandas.ipynb",
      "provenance": [],
      "authorship_tag": "ABX9TyNIEfbhHE7kMky7nXweuDpC",
      "include_colab_link": true
    },
    "kernelspec": {
      "name": "python3",
      "display_name": "Python 3"
    },
    "language_info": {
      "name": "python"
    }
  },
  "cells": [
    {
      "cell_type": "markdown",
      "metadata": {
        "id": "view-in-github",
        "colab_type": "text"
      },
      "source": [
        "<a href=\"https://colab.research.google.com/github/maiconfriedel/python-pandas/blob/main/learning_pandas.ipynb\" target=\"_parent\"><img src=\"https://colab.research.google.com/assets/colab-badge.svg\" alt=\"Open In Colab\"/></a>"
      ]
    },
    {
      "cell_type": "code",
      "metadata": {
        "colab": {
          "base_uri": "https://localhost:8080/",
          "height": 111
        },
        "id": "For4Fn-AUd2t",
        "outputId": "ccba39cd-eea2-49c5-a3c9-dc227522123a"
      },
      "source": [
        "import pandas as pd\n",
        "\n",
        "#dataframe = pd.DataFrame()\n",
        "venda = {'data': ['15/02/2021','16/02/2021'],\n",
        "         'valor' : [500,300],\n",
        "         'produto' : ['feijao', 'arroz'],\n",
        "         'qtde' : [50,70]                       \n",
        "         }\n",
        "\n",
        "vendas_df = pd.DataFrame(venda)\n",
        "\n",
        "display(vendas_df)"
      ],
      "execution_count": 10,
      "outputs": [
        {
          "output_type": "display_data",
          "data": {
            "text/html": [
              "<div>\n",
              "<style scoped>\n",
              "    .dataframe tbody tr th:only-of-type {\n",
              "        vertical-align: middle;\n",
              "    }\n",
              "\n",
              "    .dataframe tbody tr th {\n",
              "        vertical-align: top;\n",
              "    }\n",
              "\n",
              "    .dataframe thead th {\n",
              "        text-align: right;\n",
              "    }\n",
              "</style>\n",
              "<table border=\"1\" class=\"dataframe\">\n",
              "  <thead>\n",
              "    <tr style=\"text-align: right;\">\n",
              "      <th></th>\n",
              "      <th>data</th>\n",
              "      <th>valor</th>\n",
              "      <th>produto</th>\n",
              "      <th>qtde</th>\n",
              "    </tr>\n",
              "  </thead>\n",
              "  <tbody>\n",
              "    <tr>\n",
              "      <th>0</th>\n",
              "      <td>15/02/2021</td>\n",
              "      <td>500</td>\n",
              "      <td>feijao</td>\n",
              "      <td>50</td>\n",
              "    </tr>\n",
              "    <tr>\n",
              "      <th>1</th>\n",
              "      <td>16/02/2021</td>\n",
              "      <td>300</td>\n",
              "      <td>arroz</td>\n",
              "      <td>70</td>\n",
              "    </tr>\n",
              "  </tbody>\n",
              "</table>\n",
              "</div>"
            ],
            "text/plain": [
              "         data  valor produto  qtde\n",
              "0  15/02/2021    500  feijao    50\n",
              "1  16/02/2021    300   arroz    70"
            ]
          },
          "metadata": {}
        }
      ]
    },
    {
      "cell_type": "code",
      "metadata": {
        "colab": {
          "base_uri": "https://localhost:8080/",
          "height": 297
        },
        "id": "yHkHmgSgYOhn",
        "outputId": "61e54b95-c27f-407f-a6e6-4f501ac0307b"
      },
      "source": [
        "import pandas as pd\n",
        "\n",
        "vendas_df = pd.read_excel(\"Vendas.xlsx\")\n",
        "\n",
        "#display(vendas_df.head(5)) # 5 primeiras linhas\n",
        "#print(vendas_df.shape) # qtde linhas e colunas\n",
        "display(vendas_df.describe()) # soma, média etc... "
      ],
      "execution_count": 17,
      "outputs": [
        {
          "output_type": "display_data",
          "data": {
            "text/html": [
              "<div>\n",
              "<style scoped>\n",
              "    .dataframe tbody tr th:only-of-type {\n",
              "        vertical-align: middle;\n",
              "    }\n",
              "\n",
              "    .dataframe tbody tr th {\n",
              "        vertical-align: top;\n",
              "    }\n",
              "\n",
              "    .dataframe thead th {\n",
              "        text-align: right;\n",
              "    }\n",
              "</style>\n",
              "<table border=\"1\" class=\"dataframe\">\n",
              "  <thead>\n",
              "    <tr style=\"text-align: right;\">\n",
              "      <th></th>\n",
              "      <th>Código Venda</th>\n",
              "      <th>Quantidade</th>\n",
              "      <th>Valor Unitário</th>\n",
              "      <th>Valor Final</th>\n",
              "    </tr>\n",
              "  </thead>\n",
              "  <tbody>\n",
              "    <tr>\n",
              "      <th>count</th>\n",
              "      <td>93910.000000</td>\n",
              "      <td>93910.000000</td>\n",
              "      <td>93910.000000</td>\n",
              "      <td>93910.000000</td>\n",
              "    </tr>\n",
              "    <tr>\n",
              "      <th>mean</th>\n",
              "      <td>32464.762155</td>\n",
              "      <td>2.166553</td>\n",
              "      <td>191.725886</td>\n",
              "      <td>414.862656</td>\n",
              "    </tr>\n",
              "    <tr>\n",
              "      <th>std</th>\n",
              "      <td>18809.007093</td>\n",
              "      <td>1.258732</td>\n",
              "      <td>145.215519</td>\n",
              "      <td>434.846228</td>\n",
              "    </tr>\n",
              "    <tr>\n",
              "      <th>min</th>\n",
              "      <td>1.000000</td>\n",
              "      <td>1.000000</td>\n",
              "      <td>30.000000</td>\n",
              "      <td>30.000000</td>\n",
              "    </tr>\n",
              "    <tr>\n",
              "      <th>25%</th>\n",
              "      <td>16204.000000</td>\n",
              "      <td>1.000000</td>\n",
              "      <td>100.000000</td>\n",
              "      <td>156.000000</td>\n",
              "    </tr>\n",
              "    <tr>\n",
              "      <th>50%</th>\n",
              "      <td>32367.000000</td>\n",
              "      <td>2.000000</td>\n",
              "      <td>155.000000</td>\n",
              "      <td>274.000000</td>\n",
              "    </tr>\n",
              "    <tr>\n",
              "      <th>75%</th>\n",
              "      <td>48793.750000</td>\n",
              "      <td>3.000000</td>\n",
              "      <td>248.000000</td>\n",
              "      <td>524.000000</td>\n",
              "    </tr>\n",
              "    <tr>\n",
              "      <th>max</th>\n",
              "      <td>65014.000000</td>\n",
              "      <td>5.000000</td>\n",
              "      <td>750.000000</td>\n",
              "      <td>3750.000000</td>\n",
              "    </tr>\n",
              "  </tbody>\n",
              "</table>\n",
              "</div>"
            ],
            "text/plain": [
              "       Código Venda    Quantidade  Valor Unitário   Valor Final\n",
              "count  93910.000000  93910.000000    93910.000000  93910.000000\n",
              "mean   32464.762155      2.166553      191.725886    414.862656\n",
              "std    18809.007093      1.258732      145.215519    434.846228\n",
              "min        1.000000      1.000000       30.000000     30.000000\n",
              "25%    16204.000000      1.000000      100.000000    156.000000\n",
              "50%    32367.000000      2.000000      155.000000    274.000000\n",
              "75%    48793.750000      3.000000      248.000000    524.000000\n",
              "max    65014.000000      5.000000      750.000000   3750.000000"
            ]
          },
          "metadata": {}
        }
      ]
    }
  ]
}