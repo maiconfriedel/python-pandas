{
  "nbformat": 4,
  "nbformat_minor": 0,
  "metadata": {
    "colab": {
      "name": "learning_pandas.ipynb",
      "provenance": [],
      "authorship_tag": "ABX9TyNTcFow2TFLNp5THUD+J1Xj",
      "include_colab_link": true
    },
    "kernelspec": {
      "name": "python3",
      "display_name": "Python 3"
    },
    "language_info": {
      "name": "python"
    }
  },
  "cells": [
    {
      "cell_type": "markdown",
      "metadata": {
        "id": "view-in-github",
        "colab_type": "text"
      },
      "source": [
        "<a href=\"https://colab.research.google.com/github/maiconfriedel/python-pandas/blob/main/learning_pandas.ipynb\" target=\"_parent\"><img src=\"https://colab.research.google.com/assets/colab-badge.svg\" alt=\"Open In Colab\"/></a>"
      ]
    },
    {
      "cell_type": "markdown",
      "metadata": {
        "id": "D8OTEc_Se0cA"
      },
      "source": [
        "# Data Frame de Collection do Python\n"
      ]
    },
    {
      "cell_type": "code",
      "metadata": {
        "id": "For4Fn-AUd2t",
        "outputId": "027fb1af-6375-49a1-c24e-d20333a985ea",
        "colab": {
          "base_uri": "https://localhost:8080/",
          "height": 111
        }
      },
      "source": [
        "import pandas as pd\n",
        "\n",
        "#dataframe = pd.DataFrame()\n",
        "venda = {'data': ['15/02/2021','16/02/2021'],\n",
        "         'valor' : [500,300],\n",
        "         'produto' : ['feijao', 'arroz'],\n",
        "         'qtde' : [50,70]                       \n",
        "         }\n",
        "\n",
        "vendas_df = pd.DataFrame(venda)\n",
        "\n",
        "display(vendas_df)"
      ],
      "execution_count": 76,
      "outputs": [
        {
          "output_type": "display_data",
          "data": {
            "text/html": [
              "<div>\n",
              "<style scoped>\n",
              "    .dataframe tbody tr th:only-of-type {\n",
              "        vertical-align: middle;\n",
              "    }\n",
              "\n",
              "    .dataframe tbody tr th {\n",
              "        vertical-align: top;\n",
              "    }\n",
              "\n",
              "    .dataframe thead th {\n",
              "        text-align: right;\n",
              "    }\n",
              "</style>\n",
              "<table border=\"1\" class=\"dataframe\">\n",
              "  <thead>\n",
              "    <tr style=\"text-align: right;\">\n",
              "      <th></th>\n",
              "      <th>data</th>\n",
              "      <th>valor</th>\n",
              "      <th>produto</th>\n",
              "      <th>qtde</th>\n",
              "    </tr>\n",
              "  </thead>\n",
              "  <tbody>\n",
              "    <tr>\n",
              "      <th>0</th>\n",
              "      <td>15/02/2021</td>\n",
              "      <td>500</td>\n",
              "      <td>feijao</td>\n",
              "      <td>50</td>\n",
              "    </tr>\n",
              "    <tr>\n",
              "      <th>1</th>\n",
              "      <td>16/02/2021</td>\n",
              "      <td>300</td>\n",
              "      <td>arroz</td>\n",
              "      <td>70</td>\n",
              "    </tr>\n",
              "  </tbody>\n",
              "</table>\n",
              "</div>"
            ],
            "text/plain": [
              "         data  valor produto  qtde\n",
              "0  15/02/2021    500  feijao    50\n",
              "1  16/02/2021    300   arroz    70"
            ]
          },
          "metadata": {}
        }
      ]
    },
    {
      "cell_type": "markdown",
      "metadata": {
        "id": "_G9ir2uEe8bu"
      },
      "source": [
        "# Data Frame a partir de CSV"
      ]
    },
    {
      "cell_type": "code",
      "metadata": {
        "id": "yHkHmgSgYOhn",
        "outputId": "59ded3bc-09ca-4bc6-e583-d46df2bcca59",
        "colab": {
          "base_uri": "https://localhost:8080/",
          "height": 204
        }
      },
      "source": [
        "import pandas as pd\n",
        "\n",
        "vendas_df = pd.read_csv(\"./sample_data/california_housing_test.csv\")\n",
        "\n",
        "display(vendas_df[0:5])  # primeiro até quinto registro\n",
        "#display(vendas_df.head(5)) # 5 primeiras linhas\n",
        "#print(vendas_df.shape) # qtde linhas e colunas\n",
        "#display(vendas_df.describe()) # soma, média etc... \n",
        "#display(vendas_df.loc[vendas_df['population'] >= 1000, ['total_rooms', 'total_bedrooms', 'population', 'households']]) # filtro e select colunas"
      ],
      "execution_count": 77,
      "outputs": [
        {
          "output_type": "display_data",
          "data": {
            "text/html": [
              "<div>\n",
              "<style scoped>\n",
              "    .dataframe tbody tr th:only-of-type {\n",
              "        vertical-align: middle;\n",
              "    }\n",
              "\n",
              "    .dataframe tbody tr th {\n",
              "        vertical-align: top;\n",
              "    }\n",
              "\n",
              "    .dataframe thead th {\n",
              "        text-align: right;\n",
              "    }\n",
              "</style>\n",
              "<table border=\"1\" class=\"dataframe\">\n",
              "  <thead>\n",
              "    <tr style=\"text-align: right;\">\n",
              "      <th></th>\n",
              "      <th>longitude</th>\n",
              "      <th>latitude</th>\n",
              "      <th>housing_median_age</th>\n",
              "      <th>total_rooms</th>\n",
              "      <th>total_bedrooms</th>\n",
              "      <th>population</th>\n",
              "      <th>households</th>\n",
              "      <th>median_income</th>\n",
              "      <th>median_house_value</th>\n",
              "    </tr>\n",
              "  </thead>\n",
              "  <tbody>\n",
              "    <tr>\n",
              "      <th>0</th>\n",
              "      <td>-122.05</td>\n",
              "      <td>37.37</td>\n",
              "      <td>27.0</td>\n",
              "      <td>3885.0</td>\n",
              "      <td>661.0</td>\n",
              "      <td>1537.0</td>\n",
              "      <td>606.0</td>\n",
              "      <td>6.6085</td>\n",
              "      <td>344700.0</td>\n",
              "    </tr>\n",
              "    <tr>\n",
              "      <th>1</th>\n",
              "      <td>-118.30</td>\n",
              "      <td>34.26</td>\n",
              "      <td>43.0</td>\n",
              "      <td>1510.0</td>\n",
              "      <td>310.0</td>\n",
              "      <td>809.0</td>\n",
              "      <td>277.0</td>\n",
              "      <td>3.5990</td>\n",
              "      <td>176500.0</td>\n",
              "    </tr>\n",
              "    <tr>\n",
              "      <th>2</th>\n",
              "      <td>-117.81</td>\n",
              "      <td>33.78</td>\n",
              "      <td>27.0</td>\n",
              "      <td>3589.0</td>\n",
              "      <td>507.0</td>\n",
              "      <td>1484.0</td>\n",
              "      <td>495.0</td>\n",
              "      <td>5.7934</td>\n",
              "      <td>270500.0</td>\n",
              "    </tr>\n",
              "    <tr>\n",
              "      <th>3</th>\n",
              "      <td>-118.36</td>\n",
              "      <td>33.82</td>\n",
              "      <td>28.0</td>\n",
              "      <td>67.0</td>\n",
              "      <td>15.0</td>\n",
              "      <td>49.0</td>\n",
              "      <td>11.0</td>\n",
              "      <td>6.1359</td>\n",
              "      <td>330000.0</td>\n",
              "    </tr>\n",
              "    <tr>\n",
              "      <th>4</th>\n",
              "      <td>-119.67</td>\n",
              "      <td>36.33</td>\n",
              "      <td>19.0</td>\n",
              "      <td>1241.0</td>\n",
              "      <td>244.0</td>\n",
              "      <td>850.0</td>\n",
              "      <td>237.0</td>\n",
              "      <td>2.9375</td>\n",
              "      <td>81700.0</td>\n",
              "    </tr>\n",
              "  </tbody>\n",
              "</table>\n",
              "</div>"
            ],
            "text/plain": [
              "   longitude  latitude  ...  median_income  median_house_value\n",
              "0    -122.05     37.37  ...         6.6085            344700.0\n",
              "1    -118.30     34.26  ...         3.5990            176500.0\n",
              "2    -117.81     33.78  ...         5.7934            270500.0\n",
              "3    -118.36     33.82  ...         6.1359            330000.0\n",
              "4    -119.67     36.33  ...         2.9375             81700.0\n",
              "\n",
              "[5 rows x 9 columns]"
            ]
          },
          "metadata": {}
        }
      ]
    },
    {
      "cell_type": "code",
      "metadata": {
        "id": "Yr7SJBWeW5W-"
      },
      "source": [
        "vendas_df['comission'] = vendas_df['population'] * 0.05 # criar uma nova coluna no DF\n",
        "\n",
        "#vendas_df.loc['Imposto'] = 0 muito custoso para valor fixo, não utilizar\n",
        "#vendas_df.loc[0, 'taxes'] = 5.75 # preencher todas linhas na coluna imposto com 0, menos custosa dessa forma\n",
        "\n",
        "#vendas_df = vendas_df.append(vendas_dez_def) # adicionar linhas ao DF\n",
        "\n",
        "#display(vendas_df)"
      ],
      "execution_count": 78,
      "outputs": []
    },
    {
      "cell_type": "code",
      "metadata": {
        "id": "hSHWsghEZBmC"
      },
      "source": [
        "# vendas_df = vendas_df.drop('Comissão', axis=1) # remover coluna\n",
        "# vendas_df = vendas_df.drop(0, axis=0) # remover linha"
      ],
      "execution_count": 79,
      "outputs": []
    },
    {
      "cell_type": "code",
      "metadata": {
        "id": "iuiCdtptZHVt"
      },
      "source": [
        "# deletar linhas e colunas completamente vazias\n",
        "#vendas_df = vendas_df.dropna(how='all', axis=1)\n",
        "#display(vendas_df)\n",
        "\n",
        "# deletar linhas que possuem pelo menos um valor vazio\n",
        "#vendas_df = vendas_df.dropna()\n",
        "#display(vendas_df)\n",
        "\n",
        "# preencher valores vazios\n",
        "# vendas_df['taxes'] = vendas_df['taxes'].fillna(5.75)\n",
        "# display(vendas_df)\n",
        "\n",
        "# preencher com valor anterior em todas colunas\n",
        "# vendas_df = vendas_df.ffill()\n",
        "# display(vendas_df)\n"
      ],
      "execution_count": 80,
      "outputs": []
    },
    {
      "cell_type": "code",
      "metadata": {
        "id": "VoMnUiTXbJb3",
        "outputId": "2c35cc14-71f1-4406-fbeb-f0b3a0409582",
        "colab": {
          "base_uri": "https://localhost:8080/",
          "height": 918
        }
      },
      "source": [
        " value_counts = vendas_df['housing_median_age'].value_counts()\n",
        " display(value_counts)\n",
        "\n",
        "#groupby = vendas_df[['housing_median_age','total_rooms','total_bedrooms','comission']].groupby('housing_median_age').mean()\n",
        "#print(groupby)"
      ],
      "execution_count": 81,
      "outputs": [
        {
          "output_type": "display_data",
          "data": {
            "text/plain": [
              "52.0    173\n",
              "35.0    118\n",
              "36.0    115\n",
              "16.0    107\n",
              "34.0    102\n",
              "17.0    100\n",
              "32.0     91\n",
              "26.0     88\n",
              "37.0     88\n",
              "25.0     86\n",
              "33.0     85\n",
              "15.0     77\n",
              "18.0     76\n",
              "19.0     76\n",
              "30.0     76\n",
              "24.0     75\n",
              "29.0     75\n",
              "27.0     74\n",
              "38.0     64\n",
              "20.0     63\n",
              "21.0     61\n",
              "22.0     60\n",
              "28.0     58\n",
              "14.0     57\n",
              "31.0     57\n",
              "41.0     56\n",
              "43.0     56\n",
              "39.0     55\n",
              "23.0     53\n",
              "42.0     51\n",
              "44.0     51\n",
              "45.0     51\n",
              "40.0     43\n",
              "11.0     41\n",
              "12.0     41\n",
              "46.0     41\n",
              "13.0     41\n",
              "5.0      39\n",
              "48.0     34\n",
              "10.0     30\n",
              "4.0      28\n",
              "9.0      27\n",
              "6.0      25\n",
              "8.0      25\n",
              "47.0     22\n",
              "49.0     21\n",
              "7.0      20\n",
              "50.0     16\n",
              "3.0      12\n",
              "51.0     11\n",
              "2.0       6\n",
              "1.0       2\n",
              "Name: housing_median_age, dtype: int64"
            ]
          },
          "metadata": {}
        }
      ]
    }
  ]
}